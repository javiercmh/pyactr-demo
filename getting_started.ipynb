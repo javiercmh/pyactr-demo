{
 "cells": [
  {
   "cell_type": "markdown",
   "metadata": {},
   "source": [
    "# Getting started\n",
    "\n",
    "Following [this](https://github.com/jakdot/pyactr/wiki/Getting-started-I) tutorial."
   ]
  },
  {
   "cell_type": "markdown",
   "metadata": {},
   "source": [
    "## Model 1: introduction to goal buffer and production rules"
   ]
  },
  {
   "cell_type": "markdown",
   "metadata": {},
   "source": [
    "1. Import actr and initialise the mind."
   ]
  },
  {
   "cell_type": "code",
   "execution_count": 2,
   "metadata": {},
   "outputs": [],
   "source": [
    "import pyactr as actr\n",
    "\n",
    "playing_memory = actr.ACTRModel()\n"
   ]
  },
  {
   "cell_type": "markdown",
   "metadata": {},
   "source": [
    "2. Give knowledge to the mind.\n",
    "\n",
    "Set goal first."
   ]
  },
  {
   "cell_type": "code",
   "execution_count": 15,
   "metadata": {},
   "outputs": [],
   "source": [
    "actr.chunktype(\"playgame\", \"game, activity\")\n",
    "initial_chunk = actr.makechunk(typename=\"playgame\", game=\"memory\")\n",
    "\n",
    "goal = playing_memory.set_goal(\"goal\")\n",
    "goal.add(initial_chunk)"
   ]
  },
  {
   "cell_type": "markdown",
   "metadata": {},
   "source": [
    "We defined the game in the initial chunk, but we didn't set any activity."
   ]
  },
  {
   "cell_type": "code",
   "execution_count": 16,
   "metadata": {},
   "outputs": [
    {
     "name": "stdout",
     "output_type": "stream",
     "text": [
      "{playgame(activity= , game= memory)}\n"
     ]
    }
   ],
   "source": [
    "print(goal)   # output: {playgame(activity=, game=memory)}"
   ]
  },
  {
   "cell_type": "markdown",
   "metadata": {},
   "source": [
    "The following production string says the following (-ish):\n",
    "\n",
    "    if goal is playgame and game == memory and activity = None:\n",
    "        playgame.activity = presskey"
   ]
  },
  {
   "cell_type": "code",
   "execution_count": 17,
   "metadata": {},
   "outputs": [
    {
     "data": {
      "text/plain": [
       "{'=goal': playgame(activity= None, game= memory)}\n",
       "==>\n",
       "{'=goal': playgame(activity= presskey, game= )}"
      ]
     },
     "execution_count": 17,
     "metadata": {},
     "output_type": "execute_result"
    }
   ],
   "source": [
    "playing_memory.productionstring(name=\"startplaying\", string=\"\"\"\n",
    "    =goal>\n",
    "    isa playgame\n",
    "    game memory\n",
    "    activity None\n",
    "    ==>\n",
    "    =goal>\n",
    "    isa playgame\n",
    "    activity presskey\"\"\")   # to be modified later"
   ]
  },
  {
   "cell_type": "markdown",
   "metadata": {},
   "source": [
    "Now we create a simmulation and run it"
   ]
  },
  {
   "cell_type": "code",
   "execution_count": 18,
   "metadata": {},
   "outputs": [
    {
     "name": "stdout",
     "output_type": "stream",
     "text": [
      "(0, 'PROCEDURAL', 'CONFLICT RESOLUTION')\n",
      "(0, 'PROCEDURAL', 'RULE SELECTED: startplaying')\n",
      "(0.05, 'PROCEDURAL', 'RULE FIRED: startplaying')\n",
      "(0.05, 'goal', 'MODIFIED')\n",
      "(0.05, 'PROCEDURAL', 'CONFLICT RESOLUTION')\n",
      "(0.05, 'PROCEDURAL', 'NO RULE FOUND')\n"
     ]
    }
   ],
   "source": [
    "simulation_game = playing_memory.simulation()\n",
    "simulation_game.run()"
   ]
  },
  {
   "cell_type": "markdown",
   "metadata": {},
   "source": [
    "Now we can inspect the final chunk in our goal."
   ]
  },
  {
   "cell_type": "code",
   "execution_count": 19,
   "metadata": {},
   "outputs": [],
   "source": [
    "final_chunk = goal.pop()    # we can pop it"
   ]
  },
  {
   "cell_type": "code",
   "execution_count": 29,
   "metadata": {},
   "outputs": [
    {
     "name": "stdout",
     "output_type": "stream",
     "text": [
      "final_chunk = playgame(activity= presskey, game= memory)\n",
      "Contents in `final_chunk`:\n",
      "\t('activity', presskey)\n",
      "\t('game', memory)\n",
      "final_chunk.game = memory\n"
     ]
    }
   ],
   "source": [
    "# let's check what's inside\n",
    "print(\"final_chunk =\", final_chunk)\n",
    "\n",
    "print(\"Contents in `final_chunk`:\")\n",
    "for slot_value in final_chunk:  # we can iterate over its elements\n",
    "    print(f'\\t{slot_value}')\n",
    "\n",
    "print(\"final_chunk.game =\", final_chunk.game) # we can access it like a named tuple"
   ]
  },
  {
   "cell_type": "markdown",
   "metadata": {},
   "source": [
    "## Model 2: introduction to the motor module\n",
    "\n",
    "Up to this point, our mind has no contact with its environment. We will change that by simulating keypresses.\n",
    "\n",
    "We start by creating our production rule:"
   ]
  },
  {
   "cell_type": "code",
   "execution_count": 30,
   "metadata": {},
   "outputs": [
    {
     "data": {
      "text/plain": [
       "{'=goal': playgame(activity= presskey, game= memory)}\n",
       "==>\n",
       "{'+manual': _manual(cmd= press_key, key= 1)}"
      ]
     },
     "execution_count": 30,
     "metadata": {},
     "output_type": "execute_result"
    }
   ],
   "source": [
    "playing_memory.productionstring(name=\"presskey\", string=\"\"\"\n",
    "=goal>\n",
    "isa playgame\n",
    "game memory\n",
    "activity presskey\n",
    "==>\n",
    "+manual>\n",
    "isa _manual\n",
    "cmd press_key\n",
    "key 1\"\"\") # this rule is not correct, will fix it later"
   ]
  },
  {
   "cell_type": "markdown",
   "metadata": {},
   "source": [
    "Now we add the initial_chunk and run the simulation again.\n",
    "It should end in an inifinite loop :("
   ]
  },
  {
   "cell_type": "code",
   "execution_count": 31,
   "metadata": {},
   "outputs": [
    {
     "name": "stdout",
     "output_type": "stream",
     "text": [
      "(0, 'PROCEDURAL', 'CONFLICT RESOLUTION')\n",
      "(0, 'PROCEDURAL', 'RULE SELECTED: startplaying')\n",
      "(0.05, 'PROCEDURAL', 'RULE FIRED: startplaying')\n",
      "(0.05, 'goal', 'MODIFIED')\n",
      "(0.05, 'PROCEDURAL', 'CONFLICT RESOLUTION')\n",
      "(0.05, 'PROCEDURAL', 'RULE SELECTED: presskey')\n",
      "(0.1, 'PROCEDURAL', 'RULE FIRED: presskey')\n",
      "(0.1, 'manual', 'COMMAND: press_key')\n",
      "(0.1, 'PROCEDURAL', 'CONFLICT RESOLUTION')\n",
      "(0.1, 'PROCEDURAL', 'RULE SELECTED: presskey')\n",
      "(0.15, 'PROCEDURAL', 'RULE FIRED: presskey')\n",
      "(0.15, 'manual', 'COMMAND: press_key')\n",
      "(0.15, 'PROCEDURAL', 'CONFLICT RESOLUTION')\n",
      "(0.15, 'PROCEDURAL', 'RULE SELECTED: presskey')\n",
      "(0.2, 'PROCEDURAL', 'RULE FIRED: presskey')\n",
      "(0.2, 'manual', 'COMMAND: press_key')\n",
      "(0.2, 'PROCEDURAL', 'CONFLICT RESOLUTION')\n",
      "(0.2, 'PROCEDURAL', 'RULE SELECTED: presskey')\n",
      "(0.25, 'PROCEDURAL', 'RULE FIRED: presskey')\n",
      "(0.25, 'manual', 'COMMAND: press_key')\n",
      "(0.25, 'PROCEDURAL', 'CONFLICT RESOLUTION')\n",
      "(0.25, 'PROCEDURAL', 'RULE SELECTED: presskey')\n",
      "(0.3, 'PROCEDURAL', 'RULE FIRED: presskey')\n",
      "(0.3, 'manual', 'COMMAND: press_key')\n",
      "(0.3, 'PROCEDURAL', 'CONFLICT RESOLUTION')\n",
      "(0.3, 'PROCEDURAL', 'RULE SELECTED: presskey')\n",
      "(0.35, 'PROCEDURAL', 'RULE FIRED: presskey')\n",
      "(0.35, 'manual', 'COMMAND: press_key')\n",
      "(0.35, 'PROCEDURAL', 'CONFLICT RESOLUTION')\n",
      "(0.35, 'PROCEDURAL', 'RULE SELECTED: presskey')\n",
      "(0.4, 'PROCEDURAL', 'RULE FIRED: presskey')\n",
      "(0.4, 'manual', 'COMMAND: press_key')\n",
      "(0.4, 'PROCEDURAL', 'CONFLICT RESOLUTION')\n",
      "(0.4, 'PROCEDURAL', 'RULE SELECTED: presskey')\n",
      "(0.45, 'PROCEDURAL', 'RULE FIRED: presskey')\n",
      "(0.45, 'manual', 'COMMAND: press_key')\n",
      "(0.45, 'PROCEDURAL', 'CONFLICT RESOLUTION')\n",
      "(0.45, 'PROCEDURAL', 'RULE SELECTED: presskey')\n",
      "(0.5, 'PROCEDURAL', 'RULE FIRED: presskey')\n",
      "(0.5, 'manual', 'COMMAND: press_key')\n",
      "(0.5, 'PROCEDURAL', 'CONFLICT RESOLUTION')\n",
      "(0.5, 'PROCEDURAL', 'RULE SELECTED: presskey')\n",
      "(0.55, 'PROCEDURAL', 'RULE FIRED: presskey')\n",
      "(0.55, 'manual', 'COMMAND: press_key')\n",
      "(0.55, 'PROCEDURAL', 'CONFLICT RESOLUTION')\n",
      "(0.55, 'PROCEDURAL', 'RULE SELECTED: presskey')\n",
      "(0.6, 'PROCEDURAL', 'RULE FIRED: presskey')\n",
      "(0.6, 'manual', 'COMMAND: press_key')\n",
      "(0.6, 'PROCEDURAL', 'CONFLICT RESOLUTION')\n",
      "(0.6, 'PROCEDURAL', 'RULE SELECTED: presskey')\n",
      "(0.65, 'PROCEDURAL', 'RULE FIRED: presskey')\n",
      "(0.65, 'manual', 'COMMAND: press_key')\n",
      "(0.65, 'PROCEDURAL', 'CONFLICT RESOLUTION')\n",
      "(0.65, 'PROCEDURAL', 'RULE SELECTED: presskey')\n",
      "(0.7, 'PROCEDURAL', 'RULE FIRED: presskey')\n",
      "(0.7, 'manual', 'COMMAND: press_key')\n",
      "(0.7, 'PROCEDURAL', 'CONFLICT RESOLUTION')\n",
      "(0.7, 'PROCEDURAL', 'RULE SELECTED: presskey')\n",
      "(0.75, 'PROCEDURAL', 'RULE FIRED: presskey')\n",
      "(0.75, 'manual', 'COMMAND: press_key')\n",
      "(0.75, 'PROCEDURAL', 'CONFLICT RESOLUTION')\n",
      "(0.75, 'PROCEDURAL', 'RULE SELECTED: presskey')\n",
      "(0.8, 'PROCEDURAL', 'RULE FIRED: presskey')\n",
      "(0.8, 'manual', 'COMMAND: press_key')\n",
      "(0.8, 'PROCEDURAL', 'CONFLICT RESOLUTION')\n",
      "(0.8, 'PROCEDURAL', 'RULE SELECTED: presskey')\n",
      "(0.85, 'PROCEDURAL', 'RULE FIRED: presskey')\n",
      "(0.85, 'manual', 'COMMAND: press_key')\n",
      "(0.85, 'PROCEDURAL', 'CONFLICT RESOLUTION')\n",
      "(0.85, 'PROCEDURAL', 'RULE SELECTED: presskey')\n",
      "(0.9, 'PROCEDURAL', 'RULE FIRED: presskey')\n",
      "(0.9, 'manual', 'COMMAND: press_key')\n",
      "(0.9, 'PROCEDURAL', 'CONFLICT RESOLUTION')\n",
      "(0.9, 'PROCEDURAL', 'RULE SELECTED: presskey')\n",
      "(0.95, 'PROCEDURAL', 'RULE FIRED: presskey')\n",
      "(0.95, 'manual', 'COMMAND: press_key')\n",
      "(0.95, 'PROCEDURAL', 'CONFLICT RESOLUTION')\n",
      "(0.95, 'PROCEDURAL', 'RULE SELECTED: presskey')\n"
     ]
    },
    {
     "name": "stderr",
     "output_type": "stream",
     "text": [
      "/home/javier/pyactr-demo/lib/python3.6/site-packages/pyactr/simulation.py:169: UserWarning: Process in manual interrupted\n",
      "  warnings.warn(\"Process in %s interrupted\" % name)\n"
     ]
    }
   ],
   "source": [
    "goal.add(initial_chunk)\n",
    "\n",
    "simulation_game = playing_memory.simulation()\n",
    "simulation_game.run()"
   ]
  },
  {
   "cell_type": "markdown",
   "metadata": {},
   "source": [
    "We forgot to remove the activity from the goal module, after it is taken over by the motor module.\n",
    "We also need to modify the \"startplaying\" production string, so that it also checks that the motor module is not busy before firing the action."
   ]
  },
  {
   "cell_type": "code",
   "execution_count": 34,
   "metadata": {},
   "outputs": [
    {
     "data": {
      "text/plain": [
       "{'=goal': playgame(activity= None, game= memory), '?manual': {'state': 'free'}}\n",
       "==>\n",
       "{'=goal': playgame(activity= presskey, game= )}"
      ]
     },
     "execution_count": 34,
     "metadata": {},
     "output_type": "execute_result"
    }
   ],
   "source": [
    "playing_memory.productionstring(name=\"presskey\", string=\"\"\"\n",
    "=goal>\n",
    "isa  playgame\n",
    "game memory\n",
    "activity presskey\n",
    "==>\n",
    "+manual>\n",
    "isa _manual\n",
    "cmd press_key\n",
    "key 1\n",
    "=goal>\n",
    "isa playgame\n",
    "activity None\"\"\")\n",
    "\n",
    "playing_memory.productionstring(name=\"startplaying\", string=\"\"\"\n",
    "=goal>\n",
    "isa  playgame\n",
    "game memory\n",
    "activity None\n",
    "?manual>\n",
    "state free\n",
    "==>\n",
    "=goal>\n",
    "isa playgame\n",
    "activity presskey\"\"\")   # other `states` are \"busy\" and \"error\""
   ]
  },
  {
   "cell_type": "markdown",
   "metadata": {},
   "source": [
    "Run simulation again"
   ]
  },
  {
   "cell_type": "code",
   "execution_count": 35,
   "metadata": {},
   "outputs": [
    {
     "name": "stdout",
     "output_type": "stream",
     "text": [
      "(0, 'PROCEDURAL', 'CONFLICT RESOLUTION')\n",
      "(0, 'PROCEDURAL', 'RULE SELECTED: startplaying')\n",
      "(0.05, 'PROCEDURAL', 'RULE FIRED: startplaying')\n",
      "(0.05, 'goal', 'MODIFIED')\n",
      "(0.05, 'PROCEDURAL', 'CONFLICT RESOLUTION')\n",
      "(0.05, 'PROCEDURAL', 'RULE SELECTED: presskey')\n",
      "(0.1, 'PROCEDURAL', 'RULE FIRED: presskey')\n",
      "(0.1, 'goal', 'MODIFIED')\n",
      "(0.1, 'manual', 'COMMAND: press_key')\n",
      "(0.1, 'PROCEDURAL', 'CONFLICT RESOLUTION')\n",
      "(0.1, 'PROCEDURAL', 'NO RULE FOUND')\n",
      "(0.35, 'manual', 'PREPARATION COMPLETE')\n",
      "(0.35, 'PROCEDURAL', 'CONFLICT RESOLUTION')\n",
      "(0.35, 'PROCEDURAL', 'NO RULE FOUND')\n",
      "(0.4, 'manual', 'INITIATION COMPLETE')\n",
      "(0.4, 'PROCEDURAL', 'CONFLICT RESOLUTION')\n",
      "(0.4, 'PROCEDURAL', 'NO RULE FOUND')\n",
      "(0.5, 'manual', 'KEY PRESSED: 1')\n",
      "(0.5, 'PROCEDURAL', 'CONFLICT RESOLUTION')\n",
      "(0.5, 'PROCEDURAL', 'NO RULE FOUND')\n",
      "(0.65, 'manual', 'MOVEMENT FINISHED')\n",
      "(0.65, 'PROCEDURAL', 'CONFLICT RESOLUTION')\n",
      "(0.65, 'PROCEDURAL', 'RULE SELECTED: startplaying')\n",
      "(0.7, 'PROCEDURAL', 'RULE FIRED: startplaying')\n",
      "(0.7, 'goal', 'MODIFIED')\n",
      "(0.7, 'PROCEDURAL', 'CONFLICT RESOLUTION')\n",
      "(0.7, 'PROCEDURAL', 'RULE SELECTED: presskey')\n",
      "(0.75, 'PROCEDURAL', 'RULE FIRED: presskey')\n",
      "(0.75, 'goal', 'MODIFIED')\n",
      "(0.75, 'manual', 'COMMAND: press_key')\n",
      "(0.75, 'manual', 'PREPARATION COMPLETE')\n",
      "(0.75, 'PROCEDURAL', 'CONFLICT RESOLUTION')\n",
      "(0.75, 'PROCEDURAL', 'NO RULE FOUND')\n",
      "(0.8, 'manual', 'INITIATION COMPLETE')\n",
      "(0.8, 'PROCEDURAL', 'CONFLICT RESOLUTION')\n",
      "(0.8, 'PROCEDURAL', 'NO RULE FOUND')\n",
      "(0.9, 'manual', 'KEY PRESSED: 1')\n",
      "(0.9, 'PROCEDURAL', 'CONFLICT RESOLUTION')\n",
      "(0.9, 'PROCEDURAL', 'NO RULE FOUND')\n"
     ]
    }
   ],
   "source": [
    "goal.add(initial_chunk)\n",
    "simulation_game = playing_memory.simulation()\n",
    "simulation_game.run()"
   ]
  },
  {
   "cell_type": "markdown",
   "metadata": {},
   "source": [
    "## Model 3 - introduction to vision\n",
    "\n",
    "We move on to the [next tutorial](https://github.com/jakdot/pyactr/wiki/Getting-started-II) and start our code from 0.\n",
    "\n",
    "Our mind can set a goal and move (press a key). However there is no feedback from the environment yet. Let's initialise an environment for it:"
   ]
  },
  {
   "cell_type": "code",
   "execution_count": 50,
   "metadata": {},
   "outputs": [],
   "source": [
    "import pyactr as actr\n",
    "\n",
    "environment = actr.Environment()\n",
    "playing_memory = actr.ACTRModel(environment=environment)"
   ]
  },
  {
   "cell_type": "markdown",
   "metadata": {},
   "source": [
    "We now specify what the environment will look like. Every dictionary in the list is one set of stimuli that will appear together on the screen (640x360 by default)."
   ]
  },
  {
   "cell_type": "code",
   "execution_count": 51,
   "metadata": {},
   "outputs": [],
   "source": [
    "# first one is empty on purpose, the second is just a letter A in the center of the screen\n",
    "memory = [{}, {\"A\": {'text': 'A', 'position': (100, 100)}}]"
   ]
  },
  {
   "cell_type": "markdown",
   "metadata": {},
   "source": [
    "We set goals and chunks like in previous example.\n",
    "\n",
    "- game: the game we are going to play (memory)\n",
    "- activity: what will the mind be doing (keypress, attend, etc.)\n",
    "- key: which key is the model going to press\n",
    "- object: will express the object found by that key press"
   ]
  },
  {
   "cell_type": "code",
   "execution_count": 61,
   "metadata": {},
   "outputs": [],
   "source": [
    "goal = playing_memory.set_goal('goal')\n",
    "actr.chunktype('playgame', 'game, activity, key, object')\n",
    "initial_chunk = actr.makechunk(typename='playgame', game='memory', key='1')\n",
    "goal.add(initial_chunk)"
   ]
  },
  {
   "cell_type": "markdown",
   "metadata": {},
   "source": [
    "Now we set the rules. After the keypress, a stimulus should appear on the screen. The mind should pay attention to it:"
   ]
  },
  {
   "cell_type": "code",
   "execution_count": 63,
   "metadata": {},
   "outputs": [
    {
     "data": {
      "text/plain": [
       "{'=goal': playgame(activity= presskey, game= memory, key= =k, object= )}\n",
       "==>\n",
       "{'+manual': _manual(cmd= press_key, key= =k), '=goal': playgame(activity= attend, game= , key= , object= )}"
      ]
     },
     "execution_count": 63,
     "metadata": {},
     "output_type": "execute_result"
    }
   ],
   "source": [
    "playing_memory.productionstring(name='startplaying', string='''\n",
    "=goal>\n",
    "isa playgame\n",
    "game memory\n",
    "activity None\n",
    "==>\n",
    "=goal>\n",
    "isa playgame\n",
    "activity presskey''') # to be modified later\n",
    "\n",
    "playing_memory.productionstring(name='presskey', string='''\n",
    "=goal>\n",
    "isa playgame\n",
    "game memory\n",
    "activity presskey\n",
    "key =k\n",
    "==>\n",
    "+manual>\n",
    "isa _manual\n",
    "cmd press_key\n",
    "key =k\n",
    "=goal>\n",
    "isa playgame\n",
    "activity attend''')"
   ]
  },
  {
   "cell_type": "markdown",
   "metadata": {},
   "source": [
    "The stimulus will be automatically detected by the `visual_location` buffer. To pay attention to it, next rule will check in the `visual_location` buffer and move attention to the screen position where the object is located."
   ]
  },
  {
   "cell_type": "code",
   "execution_count": 64,
   "metadata": {},
   "outputs": [
    {
     "data": {
      "text/plain": [
       "{'=goal': playgame(activity= attend, game= memory, key= , object= ), '=visual_location': _visuallocation(color= , screen_x= , screen_y= , value= ), '?manual': {'state': 'free'}}\n",
       "==>\n",
       "{'=goal': playgame(activity= storeobject, game= , key= , object= ), '+visual': _visual(cmd= move_attention, color= , screen_pos= =visual_location, value= )}"
      ]
     },
     "execution_count": 64,
     "metadata": {},
     "output_type": "execute_result"
    }
   ],
   "source": [
    "playing_memory.productionstring(name='attendobject', string='''\n",
    "=goal>\n",
    "isa playgame\n",
    "game memory\n",
    "activity attend\n",
    "=visual_location>\n",
    "isa _visuallocation\n",
    "?manual>\n",
    "state free\n",
    "==>\n",
    "=goal>\n",
    "isa playgame\n",
    "activity storeobject\n",
    "+visual>\n",
    "isa _visual\n",
    "cmd move_attention\n",
    "screen_pos =visual_location''')"
   ]
  },
  {
   "cell_type": "markdown",
   "metadata": {},
   "source": [
    "After attending to the object, we will store it:"
   ]
  },
  {
   "cell_type": "code",
   "execution_count": 65,
   "metadata": {},
   "outputs": [
    {
     "data": {
      "text/plain": [
       "{'=goal': playgame(activity= storeobject, game= memory, key= , object= ), '=visual': _visual(cmd= , color= , screen_pos= , value= =v)}\n",
       "==>\n",
       "{'=goal': playgame(activity= None, game= , key= , object= =v)}"
      ]
     },
     "execution_count": 65,
     "metadata": {},
     "output_type": "execute_result"
    }
   ],
   "source": [
    "playing_memory.productionstring(name='storeobject', string='''\n",
    "=goal>\n",
    "isa playgame\n",
    "game memory\n",
    "activity storeobject\n",
    "=visual>\n",
    "isa _visual\n",
    "value =v\n",
    "==>\n",
    "=goal>\n",
    "isa playgame\n",
    "activity None\n",
    "object =v''')"
   ]
  },
  {
   "cell_type": "markdown",
   "metadata": {},
   "source": [
    "Now we run the simulation:"
   ]
  },
  {
   "cell_type": "code",
   "execution_count": 66,
   "metadata": {},
   "outputs": [
    {
     "name": "stdout",
     "output_type": "stream",
     "text": [
      "(0, 'PROCEDURAL', 'CONFLICT RESOLUTION')\n",
      "(0, 'PROCEDURAL', 'RULE SELECTED: startplaying')\n",
      "****Environment: {}\n",
      "(0.05, 'PROCEDURAL', 'RULE FIRED: startplaying')\n",
      "(0.05, 'goal', 'MODIFIED')\n",
      "(0.05, 'PROCEDURAL', 'CONFLICT RESOLUTION')\n",
      "(0.05, 'PROCEDURAL', 'RULE SELECTED: presskey')\n",
      "(0.1, 'PROCEDURAL', 'RULE FIRED: presskey')\n",
      "(0.1, 'goal', 'MODIFIED')\n",
      "(0.1, 'manual', 'COMMAND: press_key')\n",
      "(0.1, 'PROCEDURAL', 'CONFLICT RESOLUTION')\n",
      "(0.1, 'PROCEDURAL', 'NO RULE FOUND')\n",
      "(0.35, 'manual', 'PREPARATION COMPLETE')\n",
      "(0.35, 'PROCEDURAL', 'CONFLICT RESOLUTION')\n",
      "(0.35, 'PROCEDURAL', 'NO RULE FOUND')\n",
      "(0.4, 'manual', 'INITIATION COMPLETE')\n",
      "(0.4, 'PROCEDURAL', 'CONFLICT RESOLUTION')\n",
      "(0.4, 'PROCEDURAL', 'NO RULE FOUND')\n",
      "(0.5, 'manual', 'KEY PRESSED: 1')\n",
      "****Environment: {'A': {'text': 'A', 'position': (100, 100)}}\n",
      "(0.5, 'visual_location', 'ENCODED LOCATION: _visuallocation(color= , screen_x= 100, screen_y= 100, value= )')\n",
      "(0.5, 'PROCEDURAL', 'CONFLICT RESOLUTION')\n",
      "(0.5, 'PROCEDURAL', 'NO RULE FOUND')\n",
      "(0.5072, 'visual', 'AUTOMATIC BUFFERING: _visual(cmd= , color= , screen_pos= _visuallocation(color= , screen_x= 100, screen_y= 100, value= ), value= A)')\n",
      "(0.5072, 'PROCEDURAL', 'CONFLICT RESOLUTION')\n",
      "(0.5072, 'PROCEDURAL', 'NO RULE FOUND')\n",
      "(0.65, 'manual', 'MOVEMENT FINISHED')\n",
      "(0.65, 'PROCEDURAL', 'CONFLICT RESOLUTION')\n",
      "(0.65, 'PROCEDURAL', 'RULE SELECTED: attendobject')\n",
      "(0.7, 'PROCEDURAL', 'RULE FIRED: attendobject')\n",
      "(0.7, 'goal', 'MODIFIED')\n",
      "(0.7, 'visual', 'PREPARATION TO SHIFT VISUAL ATTENTION STARTED')\n",
      "(0.7, 'PROCEDURAL', 'CONFLICT RESOLUTION')\n",
      "(0.7, 'PROCEDURAL', 'NO RULE FOUND')\n",
      "(0.708, 'visual', 'CLEARED')\n",
      "(0.708, 'visual', \"ENCODED VIS OBJECT:'_visual(cmd= move_attention, color= , screen_pos= _visuallocation(color= , screen_x= 100, screen_y= 100, value= ), value= A)'\")\n",
      "(0.708, 'PROCEDURAL', 'CONFLICT RESOLUTION')\n",
      "(0.708, 'PROCEDURAL', 'RULE SELECTED: storeobject')\n",
      "(0.758, 'PROCEDURAL', 'RULE FIRED: storeobject')\n",
      "(0.758, 'goal', 'MODIFIED')\n",
      "(0.758, 'PROCEDURAL', 'CONFLICT RESOLUTION')\n",
      "(0.758, 'PROCEDURAL', 'RULE SELECTED: startplaying')\n",
      "(0.8051, 'visual', 'PREPARATION TO SHIFT VISUAL ATTENTION COMPLETED')\n",
      "(0.808, 'PROCEDURAL', 'RULE FIRED: startplaying')\n",
      "(0.808, 'goal', 'MODIFIED')\n",
      "(0.808, 'PROCEDURAL', 'CONFLICT RESOLUTION')\n",
      "(0.808, 'PROCEDURAL', 'RULE SELECTED: presskey')\n",
      "(0.858, 'PROCEDURAL', 'RULE FIRED: presskey')\n",
      "(0.858, 'goal', 'MODIFIED')\n",
      "(0.858, 'manual', 'COMMAND: press_key')\n",
      "(0.858, 'manual', 'PREPARATION COMPLETE')\n",
      "(0.858, 'PROCEDURAL', 'CONFLICT RESOLUTION')\n",
      "(0.858, 'PROCEDURAL', 'NO RULE FOUND')\n",
      "(0.908, 'manual', 'INITIATION COMPLETE')\n",
      "(0.908, 'PROCEDURAL', 'CONFLICT RESOLUTION')\n",
      "(0.908, 'PROCEDURAL', 'NO RULE FOUND')\n",
      "(0.9233, 'visual', 'SHIFT COMPLETE TO POSITION: [100, 100]')\n",
      "(0.9233, 'PROCEDURAL', 'CONFLICT RESOLUTION')\n",
      "(0.9233, 'PROCEDURAL', 'NO RULE FOUND')\n"
     ]
    }
   ],
   "source": [
    "simulation = playing_memory.simulation(gui=False, environment_process=environment.environment_process, stimuli=memory, triggers='1')\n",
    "simulation.run()"
   ]
  },
  {
   "cell_type": "code",
   "execution_count": 67,
   "metadata": {},
   "outputs": [
    {
     "data": {
      "text/plain": [
       "{playgame(activity= attend, game= memory, key= 1, object= A)}"
      ]
     },
     "execution_count": 67,
     "metadata": {},
     "output_type": "execute_result"
    }
   ],
   "source": [
    "goal"
   ]
  },
  {
   "cell_type": "markdown",
   "metadata": {},
   "source": [
    "We managed to store visual information in our memory. However, this model only supports one piece of information, which is not enough to play our game."
   ]
  },
  {
   "cell_type": "markdown",
   "metadata": {},
   "source": [
    "## Model 4: Introduction to declarative memory"
   ]
  },
  {
   "cell_type": "markdown",
   "metadata": {},
   "source": []
  }
 ],
 "metadata": {
  "interpreter": {
   "hash": "236fbcc46c502900ee0a4293d8f6146449b3f9d0d43f22b081b0a37b50d4ec98"
  },
  "kernelspec": {
   "display_name": "Python 3.6.9 64-bit ('pyactr-demo': venv)",
   "language": "python",
   "name": "python3"
  },
  "language_info": {
   "codemirror_mode": {
    "name": "ipython",
    "version": 3
   },
   "file_extension": ".py",
   "mimetype": "text/x-python",
   "name": "python",
   "nbconvert_exporter": "python",
   "pygments_lexer": "ipython3",
   "version": "3.6.9"
  },
  "orig_nbformat": 4
 },
 "nbformat": 4,
 "nbformat_minor": 2
}
